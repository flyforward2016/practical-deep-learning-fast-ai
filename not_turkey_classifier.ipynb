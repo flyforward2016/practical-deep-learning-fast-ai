{
  "nbformat": 4,
  "nbformat_minor": 0,
  "metadata": {
    "jupytext": {
      "split_at_heading": true
    },
    "kernelspec": {
      "display_name": "Python 3",
      "language": "python",
      "name": "python3"
    },
    "colab": {
      "name": "not-turkey-classifier.ipynb",
      "provenance": [],
      "include_colab_link": true
    },
    "accelerator": "GPU",
    "widgets": {
      "application/vnd.jupyter.widget-state+json": {
        "03cf64e040b841e794eb29761326d106": {
          "model_module": "@jupyter-widgets/controls",
          "model_name": "HBoxModel",
          "state": {
            "_view_name": "HBoxView",
            "_dom_classes": [],
            "_model_name": "HBoxModel",
            "_view_module": "@jupyter-widgets/controls",
            "_model_module_version": "1.5.0",
            "_view_count": null,
            "_view_module_version": "1.5.0",
            "box_style": "",
            "layout": "IPY_MODEL_126ec1ac3c5944e5a6d6cd4547705952",
            "_model_module": "@jupyter-widgets/controls",
            "children": [
              "IPY_MODEL_3661d0975dc848028ccc5ba799295fa1",
              "IPY_MODEL_11fe3fd90d7e4935952e27745e307a8a"
            ]
          }
        },
        "126ec1ac3c5944e5a6d6cd4547705952": {
          "model_module": "@jupyter-widgets/base",
          "model_name": "LayoutModel",
          "state": {
            "_view_name": "LayoutView",
            "grid_template_rows": null,
            "right": null,
            "justify_content": null,
            "_view_module": "@jupyter-widgets/base",
            "overflow": null,
            "_model_module_version": "1.2.0",
            "_view_count": null,
            "flex_flow": null,
            "width": null,
            "min_width": null,
            "border": null,
            "align_items": null,
            "bottom": null,
            "_model_module": "@jupyter-widgets/base",
            "top": null,
            "grid_column": null,
            "overflow_y": null,
            "overflow_x": null,
            "grid_auto_flow": null,
            "grid_area": null,
            "grid_template_columns": null,
            "flex": null,
            "_model_name": "LayoutModel",
            "justify_items": null,
            "grid_row": null,
            "max_height": null,
            "align_content": null,
            "visibility": null,
            "align_self": null,
            "height": null,
            "min_height": null,
            "padding": null,
            "grid_auto_rows": null,
            "grid_gap": null,
            "max_width": null,
            "order": null,
            "_view_module_version": "1.2.0",
            "grid_template_areas": null,
            "object_position": null,
            "object_fit": null,
            "grid_auto_columns": null,
            "margin": null,
            "display": null,
            "left": null
          }
        },
        "3661d0975dc848028ccc5ba799295fa1": {
          "model_module": "@jupyter-widgets/controls",
          "model_name": "FloatProgressModel",
          "state": {
            "_view_name": "ProgressView",
            "style": "IPY_MODEL_c3658734bd5e40e5804007d0461a6f81",
            "_dom_classes": [],
            "description": "100%",
            "_model_name": "FloatProgressModel",
            "bar_style": "success",
            "max": 87306240,
            "_view_module": "@jupyter-widgets/controls",
            "_model_module_version": "1.5.0",
            "value": 87306240,
            "_view_count": null,
            "_view_module_version": "1.5.0",
            "orientation": "horizontal",
            "min": 0,
            "description_tooltip": null,
            "_model_module": "@jupyter-widgets/controls",
            "layout": "IPY_MODEL_710f7f3ffaca4a419653673522b46bef"
          }
        },
        "11fe3fd90d7e4935952e27745e307a8a": {
          "model_module": "@jupyter-widgets/controls",
          "model_name": "HTMLModel",
          "state": {
            "_view_name": "HTMLView",
            "style": "IPY_MODEL_f8a5f85afa0e44d08dcb5d8bf597ba2c",
            "_dom_classes": [],
            "description": "",
            "_model_name": "HTMLModel",
            "placeholder": "​",
            "_view_module": "@jupyter-widgets/controls",
            "_model_module_version": "1.5.0",
            "value": " 83.3M/83.3M [07:59&lt;00:00, 182kB/s]",
            "_view_count": null,
            "_view_module_version": "1.5.0",
            "description_tooltip": null,
            "_model_module": "@jupyter-widgets/controls",
            "layout": "IPY_MODEL_a19e750cdc55485a9e8f70e147b8889e"
          }
        },
        "c3658734bd5e40e5804007d0461a6f81": {
          "model_module": "@jupyter-widgets/controls",
          "model_name": "ProgressStyleModel",
          "state": {
            "_view_name": "StyleView",
            "_model_name": "ProgressStyleModel",
            "description_width": "initial",
            "_view_module": "@jupyter-widgets/base",
            "_model_module_version": "1.5.0",
            "_view_count": null,
            "_view_module_version": "1.2.0",
            "bar_color": null,
            "_model_module": "@jupyter-widgets/controls"
          }
        },
        "710f7f3ffaca4a419653673522b46bef": {
          "model_module": "@jupyter-widgets/base",
          "model_name": "LayoutModel",
          "state": {
            "_view_name": "LayoutView",
            "grid_template_rows": null,
            "right": null,
            "justify_content": null,
            "_view_module": "@jupyter-widgets/base",
            "overflow": null,
            "_model_module_version": "1.2.0",
            "_view_count": null,
            "flex_flow": null,
            "width": null,
            "min_width": null,
            "border": null,
            "align_items": null,
            "bottom": null,
            "_model_module": "@jupyter-widgets/base",
            "top": null,
            "grid_column": null,
            "overflow_y": null,
            "overflow_x": null,
            "grid_auto_flow": null,
            "grid_area": null,
            "grid_template_columns": null,
            "flex": null,
            "_model_name": "LayoutModel",
            "justify_items": null,
            "grid_row": null,
            "max_height": null,
            "align_content": null,
            "visibility": null,
            "align_self": null,
            "height": null,
            "min_height": null,
            "padding": null,
            "grid_auto_rows": null,
            "grid_gap": null,
            "max_width": null,
            "order": null,
            "_view_module_version": "1.2.0",
            "grid_template_areas": null,
            "object_position": null,
            "object_fit": null,
            "grid_auto_columns": null,
            "margin": null,
            "display": null,
            "left": null
          }
        },
        "f8a5f85afa0e44d08dcb5d8bf597ba2c": {
          "model_module": "@jupyter-widgets/controls",
          "model_name": "DescriptionStyleModel",
          "state": {
            "_view_name": "StyleView",
            "_model_name": "DescriptionStyleModel",
            "description_width": "",
            "_view_module": "@jupyter-widgets/base",
            "_model_module_version": "1.5.0",
            "_view_count": null,
            "_view_module_version": "1.2.0",
            "_model_module": "@jupyter-widgets/controls"
          }
        },
        "a19e750cdc55485a9e8f70e147b8889e": {
          "model_module": "@jupyter-widgets/base",
          "model_name": "LayoutModel",
          "state": {
            "_view_name": "LayoutView",
            "grid_template_rows": null,
            "right": null,
            "justify_content": null,
            "_view_module": "@jupyter-widgets/base",
            "overflow": null,
            "_model_module_version": "1.2.0",
            "_view_count": null,
            "flex_flow": null,
            "width": null,
            "min_width": null,
            "border": null,
            "align_items": null,
            "bottom": null,
            "_model_module": "@jupyter-widgets/base",
            "top": null,
            "grid_column": null,
            "overflow_y": null,
            "overflow_x": null,
            "grid_auto_flow": null,
            "grid_area": null,
            "grid_template_columns": null,
            "flex": null,
            "_model_name": "LayoutModel",
            "justify_items": null,
            "grid_row": null,
            "max_height": null,
            "align_content": null,
            "visibility": null,
            "align_self": null,
            "height": null,
            "min_height": null,
            "padding": null,
            "grid_auto_rows": null,
            "grid_gap": null,
            "max_width": null,
            "order": null,
            "_view_module_version": "1.2.0",
            "grid_template_areas": null,
            "object_position": null,
            "object_fit": null,
            "grid_auto_columns": null,
            "margin": null,
            "display": null,
            "left": null
          }
        },
        "f8907ae29dd04cd5bdc7a9a9b64bd1cf": {
          "model_module": "@jupyter-widgets/controls",
          "model_name": "VBoxModel",
          "state": {
            "_view_name": "VBoxView",
            "_dom_classes": [],
            "_model_name": "VBoxModel",
            "_view_module": "@jupyter-widgets/controls",
            "_model_module_version": "1.5.0",
            "_view_count": null,
            "_view_module_version": "1.5.0",
            "box_style": "",
            "layout": "IPY_MODEL_f561762019f6422881e8e4371f8e1d5f",
            "_model_module": "@jupyter-widgets/controls",
            "children": [
              "IPY_MODEL_a1641e70c84f487db7a4f165febd8d5d",
              "IPY_MODEL_4230348f3283412baa6d3ebac3edd47b",
              "IPY_MODEL_556f2814457d469db88815ba18659da5",
              "IPY_MODEL_cb824380cd04488f8fd5835eeb7410ab",
              "IPY_MODEL_6e298da806214c7796d8aa45695b0233"
            ]
          }
        },
        "f561762019f6422881e8e4371f8e1d5f": {
          "model_module": "@jupyter-widgets/base",
          "model_name": "LayoutModel",
          "state": {
            "_view_name": "LayoutView",
            "grid_template_rows": null,
            "right": null,
            "justify_content": null,
            "_view_module": "@jupyter-widgets/base",
            "overflow": null,
            "_model_module_version": "1.2.0",
            "_view_count": null,
            "flex_flow": null,
            "width": null,
            "min_width": null,
            "border": null,
            "align_items": null,
            "bottom": null,
            "_model_module": "@jupyter-widgets/base",
            "top": null,
            "grid_column": null,
            "overflow_y": null,
            "overflow_x": null,
            "grid_auto_flow": null,
            "grid_area": null,
            "grid_template_columns": null,
            "flex": null,
            "_model_name": "LayoutModel",
            "justify_items": null,
            "grid_row": null,
            "max_height": null,
            "align_content": null,
            "visibility": null,
            "align_self": null,
            "height": null,
            "min_height": null,
            "padding": null,
            "grid_auto_rows": null,
            "grid_gap": null,
            "max_width": null,
            "order": null,
            "_view_module_version": "1.2.0",
            "grid_template_areas": null,
            "object_position": null,
            "object_fit": null,
            "grid_auto_columns": null,
            "margin": null,
            "display": null,
            "left": null
          }
        },
        "a1641e70c84f487db7a4f165febd8d5d": {
          "model_module": "@jupyter-widgets/controls",
          "model_name": "LabelModel",
          "state": {
            "_view_name": "LabelView",
            "style": "IPY_MODEL_1e254c02cfba4a3b92439234d4a83bb6",
            "_dom_classes": [],
            "description": "",
            "_model_name": "LabelModel",
            "placeholder": "​",
            "_view_module": "@jupyter-widgets/controls",
            "_model_module_version": "1.5.0",
            "value": "Select your mystery bird! Then click \"Classify\"",
            "_view_count": null,
            "_view_module_version": "1.5.0",
            "description_tooltip": null,
            "_model_module": "@jupyter-widgets/controls",
            "layout": "IPY_MODEL_9caef5de2ff7499085b0c6f453df7f8b"
          }
        },
        "4230348f3283412baa6d3ebac3edd47b": {
          "model_module": "@jupyter-widgets/controls",
          "model_name": "FileUploadModel",
          "state": {
            "_view_name": "FileUploadView",
            "_counter": 7,
            "style": "IPY_MODEL_54507f5fa2ad4aefb17d0935f4e60d29",
            "_dom_classes": [],
            "description": "Upload",
            "multiple": false,
            "_model_name": "FileUploadModel",
            "data": [
              null
            ],
            "button_style": "",
            "_view_module": "@jupyter-widgets/controls",
            "_model_module_version": "1.5.0",
            "accept": "",
            "_view_count": null,
            "disabled": false,
            "_view_module_version": "1.5.0",
            "error": "",
            "description_tooltip": null,
            "metadata": [
              {
                "name": "turkey.JPG",
                "type": "image/jpeg",
                "size": 477380,
                "lastModified": 1606414575405
              }
            ],
            "_model_module": "@jupyter-widgets/controls",
            "layout": "IPY_MODEL_7709f746171440329522b187b4eb7d99",
            "icon": "upload"
          }
        },
        "556f2814457d469db88815ba18659da5": {
          "model_module": "@jupyter-widgets/controls",
          "model_name": "ButtonModel",
          "state": {
            "_view_name": "ButtonView",
            "style": "IPY_MODEL_0bd1010d9af4470da48141bb49fe3733",
            "_dom_classes": [],
            "description": "Classify",
            "_model_name": "ButtonModel",
            "button_style": "",
            "_view_module": "@jupyter-widgets/controls",
            "_model_module_version": "1.5.0",
            "tooltip": "",
            "_view_count": null,
            "disabled": false,
            "_view_module_version": "1.5.0",
            "layout": "IPY_MODEL_023d5e900bec4484a0e332cc78f16747",
            "_model_module": "@jupyter-widgets/controls",
            "icon": ""
          }
        },
        "cb824380cd04488f8fd5835eeb7410ab": {
          "model_module": "@jupyter-widgets/output",
          "model_name": "OutputModel",
          "state": {
            "_view_name": "OutputView",
            "msg_id": "",
            "_dom_classes": [],
            "_model_name": "OutputModel",
            "outputs": [
              {
                "output_type": "display_data",
                "metadata": {
                  "tags": []
                },
                "image/png": "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\n",
                "text/plain": "<PIL.Image.Image image mode=RGB size=128x85 at 0x7FE37947BAC8>"
              }
            ],
            "_view_module": "@jupyter-widgets/output",
            "_model_module_version": "1.0.0",
            "_view_count": null,
            "_view_module_version": "1.0.0",
            "layout": "IPY_MODEL_68c75b4785b94705b75855a27feafc2b",
            "_model_module": "@jupyter-widgets/output"
          }
        },
        "6e298da806214c7796d8aa45695b0233": {
          "model_module": "@jupyter-widgets/controls",
          "model_name": "LabelModel",
          "state": {
            "_view_name": "LabelView",
            "style": "IPY_MODEL_b3a0e861a44844bdad83ff662a6568aa",
            "_dom_classes": [],
            "description": "",
            "_model_name": "LabelModel",
            "placeholder": "​",
            "_view_module": "@jupyter-widgets/controls",
            "_model_module_version": "1.5.0",
            "value": "Prediction: 107.Common_Raven; Probability: 0.0818",
            "_view_count": null,
            "_view_module_version": "1.5.0",
            "description_tooltip": null,
            "_model_module": "@jupyter-widgets/controls",
            "layout": "IPY_MODEL_dcd4617de6d049d08288f9f387292384"
          }
        },
        "1e254c02cfba4a3b92439234d4a83bb6": {
          "model_module": "@jupyter-widgets/controls",
          "model_name": "DescriptionStyleModel",
          "state": {
            "_view_name": "StyleView",
            "_model_name": "DescriptionStyleModel",
            "description_width": "",
            "_view_module": "@jupyter-widgets/base",
            "_model_module_version": "1.5.0",
            "_view_count": null,
            "_view_module_version": "1.2.0",
            "_model_module": "@jupyter-widgets/controls"
          }
        },
        "9caef5de2ff7499085b0c6f453df7f8b": {
          "model_module": "@jupyter-widgets/base",
          "model_name": "LayoutModel",
          "state": {
            "_view_name": "LayoutView",
            "grid_template_rows": null,
            "right": null,
            "justify_content": null,
            "_view_module": "@jupyter-widgets/base",
            "overflow": null,
            "_model_module_version": "1.2.0",
            "_view_count": null,
            "flex_flow": null,
            "width": null,
            "min_width": null,
            "border": null,
            "align_items": null,
            "bottom": null,
            "_model_module": "@jupyter-widgets/base",
            "top": null,
            "grid_column": null,
            "overflow_y": null,
            "overflow_x": null,
            "grid_auto_flow": null,
            "grid_area": null,
            "grid_template_columns": null,
            "flex": null,
            "_model_name": "LayoutModel",
            "justify_items": null,
            "grid_row": null,
            "max_height": null,
            "align_content": null,
            "visibility": null,
            "align_self": null,
            "height": null,
            "min_height": null,
            "padding": null,
            "grid_auto_rows": null,
            "grid_gap": null,
            "max_width": null,
            "order": null,
            "_view_module_version": "1.2.0",
            "grid_template_areas": null,
            "object_position": null,
            "object_fit": null,
            "grid_auto_columns": null,
            "margin": null,
            "display": null,
            "left": null
          }
        },
        "54507f5fa2ad4aefb17d0935f4e60d29": {
          "model_module": "@jupyter-widgets/controls",
          "model_name": "ButtonStyleModel",
          "state": {
            "_view_name": "StyleView",
            "_model_name": "ButtonStyleModel",
            "_view_module": "@jupyter-widgets/base",
            "_model_module_version": "1.5.0",
            "_view_count": null,
            "button_color": null,
            "font_weight": "",
            "_view_module_version": "1.2.0",
            "_model_module": "@jupyter-widgets/controls"
          }
        },
        "7709f746171440329522b187b4eb7d99": {
          "model_module": "@jupyter-widgets/base",
          "model_name": "LayoutModel",
          "state": {
            "_view_name": "LayoutView",
            "grid_template_rows": null,
            "right": null,
            "justify_content": null,
            "_view_module": "@jupyter-widgets/base",
            "overflow": null,
            "_model_module_version": "1.2.0",
            "_view_count": null,
            "flex_flow": null,
            "width": null,
            "min_width": null,
            "border": null,
            "align_items": null,
            "bottom": null,
            "_model_module": "@jupyter-widgets/base",
            "top": null,
            "grid_column": null,
            "overflow_y": null,
            "overflow_x": null,
            "grid_auto_flow": null,
            "grid_area": null,
            "grid_template_columns": null,
            "flex": null,
            "_model_name": "LayoutModel",
            "justify_items": null,
            "grid_row": null,
            "max_height": null,
            "align_content": null,
            "visibility": null,
            "align_self": null,
            "height": null,
            "min_height": null,
            "padding": null,
            "grid_auto_rows": null,
            "grid_gap": null,
            "max_width": null,
            "order": null,
            "_view_module_version": "1.2.0",
            "grid_template_areas": null,
            "object_position": null,
            "object_fit": null,
            "grid_auto_columns": null,
            "margin": null,
            "display": null,
            "left": null
          }
        },
        "0bd1010d9af4470da48141bb49fe3733": {
          "model_module": "@jupyter-widgets/controls",
          "model_name": "ButtonStyleModel",
          "state": {
            "_view_name": "StyleView",
            "_model_name": "ButtonStyleModel",
            "_view_module": "@jupyter-widgets/base",
            "_model_module_version": "1.5.0",
            "_view_count": null,
            "button_color": null,
            "font_weight": "",
            "_view_module_version": "1.2.0",
            "_model_module": "@jupyter-widgets/controls"
          }
        },
        "023d5e900bec4484a0e332cc78f16747": {
          "model_module": "@jupyter-widgets/base",
          "model_name": "LayoutModel",
          "state": {
            "_view_name": "LayoutView",
            "grid_template_rows": null,
            "right": null,
            "justify_content": null,
            "_view_module": "@jupyter-widgets/base",
            "overflow": null,
            "_model_module_version": "1.2.0",
            "_view_count": null,
            "flex_flow": null,
            "width": null,
            "min_width": null,
            "border": null,
            "align_items": null,
            "bottom": null,
            "_model_module": "@jupyter-widgets/base",
            "top": null,
            "grid_column": null,
            "overflow_y": null,
            "overflow_x": null,
            "grid_auto_flow": null,
            "grid_area": null,
            "grid_template_columns": null,
            "flex": null,
            "_model_name": "LayoutModel",
            "justify_items": null,
            "grid_row": null,
            "max_height": null,
            "align_content": null,
            "visibility": null,
            "align_self": null,
            "height": null,
            "min_height": null,
            "padding": null,
            "grid_auto_rows": null,
            "grid_gap": null,
            "max_width": null,
            "order": null,
            "_view_module_version": "1.2.0",
            "grid_template_areas": null,
            "object_position": null,
            "object_fit": null,
            "grid_auto_columns": null,
            "margin": null,
            "display": null,
            "left": null
          }
        },
        "b3a0e861a44844bdad83ff662a6568aa": {
          "model_module": "@jupyter-widgets/controls",
          "model_name": "DescriptionStyleModel",
          "state": {
            "_view_name": "StyleView",
            "_model_name": "DescriptionStyleModel",
            "description_width": "",
            "_view_module": "@jupyter-widgets/base",
            "_model_module_version": "1.5.0",
            "_view_count": null,
            "_view_module_version": "1.2.0",
            "_model_module": "@jupyter-widgets/controls"
          }
        },
        "dcd4617de6d049d08288f9f387292384": {
          "model_module": "@jupyter-widgets/base",
          "model_name": "LayoutModel",
          "state": {
            "_view_name": "LayoutView",
            "grid_template_rows": null,
            "right": null,
            "justify_content": null,
            "_view_module": "@jupyter-widgets/base",
            "overflow": null,
            "_model_module_version": "1.2.0",
            "_view_count": null,
            "flex_flow": null,
            "width": null,
            "min_width": null,
            "border": null,
            "align_items": null,
            "bottom": null,
            "_model_module": "@jupyter-widgets/base",
            "top": null,
            "grid_column": null,
            "overflow_y": null,
            "overflow_x": null,
            "grid_auto_flow": null,
            "grid_area": null,
            "grid_template_columns": null,
            "flex": null,
            "_model_name": "LayoutModel",
            "justify_items": null,
            "grid_row": null,
            "max_height": null,
            "align_content": null,
            "visibility": null,
            "align_self": null,
            "height": null,
            "min_height": null,
            "padding": null,
            "grid_auto_rows": null,
            "grid_gap": null,
            "max_width": null,
            "order": null,
            "_view_module_version": "1.2.0",
            "grid_template_areas": null,
            "object_position": null,
            "object_fit": null,
            "grid_auto_columns": null,
            "margin": null,
            "display": null,
            "left": null
          }
        },
        "68c75b4785b94705b75855a27feafc2b": {
          "model_module": "@jupyter-widgets/base",
          "model_name": "LayoutModel",
          "state": {
            "_view_name": "LayoutView",
            "grid_template_rows": null,
            "right": null,
            "justify_content": null,
            "_view_module": "@jupyter-widgets/base",
            "overflow": null,
            "_model_module_version": "1.2.0",
            "_view_count": null,
            "flex_flow": null,
            "width": null,
            "min_width": null,
            "border": null,
            "align_items": null,
            "bottom": null,
            "_model_module": "@jupyter-widgets/base",
            "top": null,
            "grid_column": null,
            "overflow_y": null,
            "overflow_x": null,
            "grid_auto_flow": null,
            "grid_area": null,
            "grid_template_columns": null,
            "flex": null,
            "_model_name": "LayoutModel",
            "justify_items": null,
            "grid_row": null,
            "max_height": null,
            "align_content": null,
            "visibility": null,
            "align_self": null,
            "height": null,
            "min_height": null,
            "padding": null,
            "grid_auto_rows": null,
            "grid_gap": null,
            "max_width": null,
            "order": null,
            "_view_module_version": "1.2.0",
            "grid_template_areas": null,
            "object_position": null,
            "object_fit": null,
            "grid_auto_columns": null,
            "margin": null,
            "display": null,
            "left": null
          }
        }
      }
    }
  },
  "cells": [
    {
      "cell_type": "markdown",
      "metadata": {
        "id": "view-in-github",
        "colab_type": "text"
      },
      "source": [
        "<a href=\"https://colab.research.google.com/github/nickandmartinlearnstuff/practical-deep-learning-fast-ai/blob/main/not_turkey_classifier.ipynb\" target=\"_parent\"><img src=\"https://colab.research.google.com/assets/colab-badge.svg\" alt=\"Open In Colab\"/></a>"
      ]
    },
    {
      "cell_type": "code",
      "metadata": {
        "colab": {
          "base_uri": "https://localhost:8080/"
        },
        "id": "oTQxLfcKgV7F",
        "outputId": "021b25b5-eb10-4c68-f25e-1015bbd855f6"
      },
      "source": [
        "#hide\n",
        "!pip install -Uqq fastbook\n",
        "import fastbook\n",
        "fastbook.setup_book()"
      ],
      "execution_count": null,
      "outputs": [
        {
          "output_type": "stream",
          "text": [
            "\u001b[K     |████████████████████████████████| 727kB 16.4MB/s \n",
            "\u001b[K     |████████████████████████████████| 51kB 8.8MB/s \n",
            "\u001b[K     |████████████████████████████████| 1.1MB 49.4MB/s \n",
            "\u001b[K     |████████████████████████████████| 194kB 53.2MB/s \n",
            "\u001b[K     |████████████████████████████████| 51kB 8.2MB/s \n",
            "\u001b[K     |████████████████████████████████| 92kB 12.6MB/s \n",
            "\u001b[K     |████████████████████████████████| 40kB 7.1MB/s \n",
            "\u001b[K     |████████████████████████████████| 51kB 8.8MB/s \n",
            "\u001b[K     |████████████████████████████████| 51kB 9.0MB/s \n",
            "\u001b[K     |████████████████████████████████| 61kB 10.7MB/s \n",
            "\u001b[K     |████████████████████████████████| 2.6MB 54.0MB/s \n",
            "\u001b[?25hMounted at /content/gdrive\n"
          ],
          "name": "stdout"
        }
      ]
    },
    {
      "cell_type": "code",
      "metadata": {
        "id": "sWDpiKEsgV7K"
      },
      "source": [
        "#hide\n",
        "from fastbook import *"
      ],
      "execution_count": null,
      "outputs": []
    },
    {
      "cell_type": "markdown",
      "metadata": {
        "id": "V75NUwnMgV7O"
      },
      "source": [
        "# To Explore Further\n",
        "\n",
        "- **GDrive Downloads**: How to download a file hosted on Google Drive when there is an in-between page and `&export=download` doesn't work\n",
        "- **Bing API Keys**: What is the right endpoint, is it `cognitive` or `bing`? Why don't my API Keys work? pllllllz\n",
        "- **Forum Posts**: Either find, or otherwise write, forum posts explaining both of these things"
      ]
    },
    {
      "cell_type": "markdown",
      "metadata": {
        "id": "dHEG5otpgV7T"
      },
      "source": [
        "## From Dogs and Cats to Pet Breeds"
      ]
    },
    {
      "cell_type": "code",
      "metadata": {
        "id": "AVqMZPOvgV7T"
      },
      "source": [
        "from fastai.vision.all import *"
      ],
      "execution_count": null,
      "outputs": []
    },
    {
      "cell_type": "code",
      "metadata": {
        "id": "QHhDavOPk2Vs"
      },
      "source": [
        "tarpath = Path.cwd() / \"gdrive\" / \"MyDrive\" / \"data\" / \"bird_classifier\" / \"images.tgz\""
      ],
      "execution_count": null,
      "outputs": []
    },
    {
      "cell_type": "code",
      "metadata": {
        "colab": {
          "base_uri": "https://localhost:8080/"
        },
        "id": "7-WGy7S_lJZv",
        "outputId": "e2d1a5c9-7492-43c9-999a-dd5f20a32db3"
      },
      "source": [
        "tarpath"
      ],
      "execution_count": null,
      "outputs": [
        {
          "output_type": "execute_result",
          "data": {
            "text/plain": [
              "Path('/content/gdrive/MyDrive/data/bird_classifier/images.tgz')"
            ]
          },
          "metadata": {
            "tags": []
          },
          "execution_count": 17
        }
      ]
    },
    {
      "cell_type": "code",
      "metadata": {
        "id": "tUeANSOZlSUa"
      },
      "source": [
        "!tar -xvzf gdrive/MyDrive/data/bird_classifier/images.tgz"
      ],
      "execution_count": null,
      "outputs": []
    },
    {
      "cell_type": "code",
      "metadata": {
        "id": "VjCwSnC4lrNG"
      },
      "source": [
        "!mv images gdrive/MyDrive/data/bird_classifier/images"
      ],
      "execution_count": null,
      "outputs": []
    },
    {
      "cell_type": "code",
      "metadata": {
        "id": "jax-DV4zgV7T"
      },
      "source": [
        "birdir = Path.cwd() / \"gdrive\" / \"MyDrive\" / \"data\" / \"bird_classifier\" / \"images\""
      ],
      "execution_count": null,
      "outputs": []
    },
    {
      "cell_type": "code",
      "metadata": {
        "id": "ayZMi8xEojNt",
        "colab": {
          "base_uri": "https://localhost:8080/"
        },
        "outputId": "954648ad-6535-4d43-fabe-ab197cf9680b"
      },
      "source": [
        "birdir.is_dir()"
      ],
      "execution_count": null,
      "outputs": [
        {
          "output_type": "execute_result",
          "data": {
            "text/plain": [
              "True"
            ]
          },
          "metadata": {
            "tags": []
          },
          "execution_count": 23
        }
      ]
    },
    {
      "cell_type": "code",
      "metadata": {
        "id": "Oz_rMGvUonk6"
      },
      "source": [
        "dirs = [d for d in birdir.iterdir() if d.is_dir()]"
      ],
      "execution_count": null,
      "outputs": []
    },
    {
      "cell_type": "code",
      "metadata": {
        "colab": {
          "base_uri": "https://localhost:8080/"
        },
        "id": "8ysaJ9m-gV7T",
        "outputId": "48fba25f-1d1d-404e-bc77-96e111b2f691"
      },
      "source": [
        "birdir.ls()"
      ],
      "execution_count": null,
      "outputs": [
        {
          "output_type": "execute_result",
          "data": {
            "text/plain": [
              "(#400) [Path('/content/gdrive/MyDrive/data/bird_classifier/images/._001.Black_footed_Albatross'),Path('/content/gdrive/MyDrive/data/bird_classifier/images/001.Black_footed_Albatross'),Path('/content/gdrive/MyDrive/data/bird_classifier/images/._002.Laysan_Albatross'),Path('/content/gdrive/MyDrive/data/bird_classifier/images/002.Laysan_Albatross'),Path('/content/gdrive/MyDrive/data/bird_classifier/images/._003.Sooty_Albatross'),Path('/content/gdrive/MyDrive/data/bird_classifier/images/003.Sooty_Albatross'),Path('/content/gdrive/MyDrive/data/bird_classifier/images/._004.Groove_billed_Ani'),Path('/content/gdrive/MyDrive/data/bird_classifier/images/004.Groove_billed_Ani'),Path('/content/gdrive/MyDrive/data/bird_classifier/images/._005.Crested_Auklet'),Path('/content/gdrive/MyDrive/data/bird_classifier/images/005.Crested_Auklet')...]"
            ]
          },
          "metadata": {
            "tags": []
          },
          "execution_count": 28
        }
      ]
    },
    {
      "cell_type": "code",
      "metadata": {
        "id": "rYgb6GSRgV7T"
      },
      "source": [
        "pets = DataBlock(blocks = (ImageBlock, CategoryBlock),\n",
        "                 get_items=get_image_files, \n",
        "                 splitter=RandomSplitter(seed=42),\n",
        "                 get_y=parent_label,\n",
        "                 item_tfms=Resize(460),\n",
        "                 batch_tfms=aug_transforms(size=224, min_scale=0.75))\n",
        "dls = pets.dataloaders(birdir)"
      ],
      "execution_count": null,
      "outputs": []
    },
    {
      "cell_type": "markdown",
      "metadata": {
        "id": "snz43HsWgV7U"
      },
      "source": [
        "### Checking and Debugging a DataBlock"
      ]
    },
    {
      "cell_type": "code",
      "metadata": {
        "colab": {
          "base_uri": "https://localhost:8080/",
          "height": 195
        },
        "id": "8tEKvFlvgV7U",
        "outputId": "522c68f6-432d-40fe-a813-f738ecf42aec"
      },
      "source": [
        "dls.show_batch(nrows=1, ncols=3)"
      ],
      "execution_count": null,
      "outputs": [
        {
          "output_type": "display_data",
          "data": {
            "image/png": "[encoded data removed]",
            "text/plain": [
              "<Figure size 648x216 with 3 Axes>"
            ]
          },
          "metadata": {
            "tags": [],
            "needs_background": "light"
          }
        }
      ]
    },
    {
      "cell_type": "code",
      "metadata": {
        "colab": {
          "base_uri": "https://localhost:8080/",
          "height": 259,
          "referenced_widgets": [
            "03cf64e040b841e794eb29761326d106",
            "126ec1ac3c5944e5a6d6cd4547705952",
            "3661d0975dc848028ccc5ba799295fa1",
            "11fe3fd90d7e4935952e27745e307a8a",
            "c3658734bd5e40e5804007d0461a6f81",
            "710f7f3ffaca4a419653673522b46bef",
            "f8a5f85afa0e44d08dcb5d8bf597ba2c",
            "a19e750cdc55485a9e8f70e147b8889e"
          ]
        },
        "id": "9upbpZ0XgV7U",
        "outputId": "1ab04bac-dbe2-4844-846c-aac66eebafcc"
      },
      "source": [
        "learn = cnn_learner(dls, resnet34, metrics=error_rate)\n",
        "learn.fine_tune(2)"
      ],
      "execution_count": null,
      "outputs": [
        {
          "output_type": "stream",
          "text": [
            "Downloading: \"https://download.pytorch.org/models/resnet34-333f7ec4.pth\" to /root/.cache/torch/hub/checkpoints/resnet34-333f7ec4.pth\n"
          ],
          "name": "stderr"
        },
        {
          "output_type": "display_data",
          "data": {
            "application/vnd.jupyter.widget-view+json": {
              "model_id": "03cf64e040b841e794eb29761326d106",
              "version_minor": 0,
              "version_major": 2
            },
            "text/plain": [
              "HBox(children=(FloatProgress(value=0.0, max=87306240.0), HTML(value='')))"
            ]
          },
          "metadata": {
            "tags": []
          }
        },
        {
          "output_type": "stream",
          "text": [
            "\n"
          ],
          "name": "stdout"
        },
        {
          "output_type": "display_data",
          "data": {
            "text/html": [
              "<table border=\"1\" class=\"dataframe\">\n",
              "  <thead>\n",
              "    <tr style=\"text-align: left;\">\n",
              "      <th>epoch</th>\n",
              "      <th>train_loss</th>\n",
              "      <th>valid_loss</th>\n",
              "      <th>error_rate</th>\n",
              "      <th>time</th>\n",
              "    </tr>\n",
              "  </thead>\n",
              "  <tbody>\n",
              "    <tr>\n",
              "      <td>0</td>\n",
              "      <td>5.584807</td>\n",
              "      <td>3.216743</td>\n",
              "      <td>0.715589</td>\n",
              "      <td>09:48</td>\n",
              "    </tr>\n",
              "  </tbody>\n",
              "</table>"
            ],
            "text/plain": [
              "<IPython.core.display.HTML object>"
            ]
          },
          "metadata": {
            "tags": []
          }
        },
        {
          "output_type": "display_data",
          "data": {
            "text/html": [
              "<table border=\"1\" class=\"dataframe\">\n",
              "  <thead>\n",
              "    <tr style=\"text-align: left;\">\n",
              "      <th>epoch</th>\n",
              "      <th>train_loss</th>\n",
              "      <th>valid_loss</th>\n",
              "      <th>error_rate</th>\n",
              "      <th>time</th>\n",
              "    </tr>\n",
              "  </thead>\n",
              "  <tbody>\n",
              "    <tr>\n",
              "      <td>0</td>\n",
              "      <td>3.058755</td>\n",
              "      <td>2.063019</td>\n",
              "      <td>0.517413</td>\n",
              "      <td>01:13</td>\n",
              "    </tr>\n",
              "    <tr>\n",
              "      <td>1</td>\n",
              "      <td>2.160284</td>\n",
              "      <td>1.770690</td>\n",
              "      <td>0.436153</td>\n",
              "      <td>01:15</td>\n",
              "    </tr>\n",
              "  </tbody>\n",
              "</table>"
            ],
            "text/plain": [
              "<IPython.core.display.HTML object>"
            ]
          },
          "metadata": {
            "tags": []
          }
        }
      ]
    },
    {
      "cell_type": "code",
      "metadata": {
        "id": "xfV6jtBYrGNc"
      },
      "source": [
        "from fastai.vision.widgets import *"
      ],
      "execution_count": null,
      "outputs": []
    },
    {
      "cell_type": "code",
      "metadata": {
        "id": "hGYv7W-huhrr",
        "colab": {
          "base_uri": "https://localhost:8080/",
          "height": 230,
          "referenced_widgets": [
            "f8907ae29dd04cd5bdc7a9a9b64bd1cf",
            "f561762019f6422881e8e4371f8e1d5f",
            "a1641e70c84f487db7a4f165febd8d5d",
            "4230348f3283412baa6d3ebac3edd47b",
            "556f2814457d469db88815ba18659da5",
            "cb824380cd04488f8fd5835eeb7410ab",
            "6e298da806214c7796d8aa45695b0233",
            "1e254c02cfba4a3b92439234d4a83bb6",
            "9caef5de2ff7499085b0c6f453df7f8b",
            "54507f5fa2ad4aefb17d0935f4e60d29",
            "7709f746171440329522b187b4eb7d99",
            "0bd1010d9af4470da48141bb49fe3733",
            "023d5e900bec4484a0e332cc78f16747",
            "b3a0e861a44844bdad83ff662a6568aa",
            "dcd4617de6d049d08288f9f387292384",
            "68c75b4785b94705b75855a27feafc2b"
          ]
        },
        "outputId": "77e5e3e0-a52a-4e01-8341-d839200ed93a"
      },
      "source": [
        "btn_upload = widgets.FileUpload()\n",
        "out_pl = widgets.Output()\n",
        "lbl_pred = widgets.Label()\n",
        "btn_run = widgets.Button(description='Classify')\n",
        "\n",
        "def on_click_classify(change):\n",
        "    lbl_pred.value = ''\n",
        "    img = PILImage.create(btn_upload.data[-1])\n",
        "    out_pl.clear_output()\n",
        "    with out_pl: display(img.to_thumb(128,128))\n",
        "    pred,pred_idx,probs = learn.predict(img)\n",
        "    lbl_pred.value = f'Prediction: {pred}; Probability: {probs[pred_idx]:.04f}'\n",
        "\n",
        "btn_run.on_click(on_click_classify)\n",
        "\n",
        "VBox([widgets.Label('Select your mystery bird! Then click \"Classify\"'), \n",
        "              btn_upload, btn_run, out_pl, lbl_pred])"
      ],
      "execution_count": null,
      "outputs": [
        {
          "output_type": "display_data",
          "data": {
            "application/vnd.jupyter.widget-view+json": {
              "model_id": "f8907ae29dd04cd5bdc7a9a9b64bd1cf",
              "version_minor": 0,
              "version_major": 2
            },
            "text/plain": [
              "VBox(children=(Label(value='Select your mystery bird! Then click \"Classify\"'), FileUpload(value={}, descriptio…"
            ]
          },
          "metadata": {
            "tags": []
          }
        },
        {
          "output_type": "display_data",
          "data": {
            "text/html": [
              ""
            ],
            "text/plain": [
              "<IPython.core.display.HTML object>"
            ]
          },
          "metadata": {
            "tags": []
          }
        },
        {
          "output_type": "display_data",
          "data": {
            "text/html": [
              ""
            ],
            "text/plain": [
              "<IPython.core.display.HTML object>"
            ]
          },
          "metadata": {
            "tags": []
          }
        },
        {
          "output_type": "display_data",
          "data": {
            "text/html": [
              ""
            ],
            "text/plain": [
              "<IPython.core.display.HTML object>"
            ]
          },
          "metadata": {
            "tags": []
          }
        },
        {
          "output_type": "display_data",
          "data": {
            "text/html": [
              ""
            ],
            "text/plain": [
              "<IPython.core.display.HTML object>"
            ]
          },
          "metadata": {
            "tags": []
          }
        },
        {
          "output_type": "display_data",
          "data": {
            "text/html": [
              ""
            ],
            "text/plain": [
              "<IPython.core.display.HTML object>"
            ]
          },
          "metadata": {
            "tags": []
          }
        },
        {
          "output_type": "display_data",
          "data": {
            "text/html": [
              ""
            ],
            "text/plain": [
              "<IPython.core.display.HTML object>"
            ]
          },
          "metadata": {
            "tags": []
          }
        },
        {
          "output_type": "display_data",
          "data": {
            "text/html": [
              ""
            ],
            "text/plain": [
              "<IPython.core.display.HTML object>"
            ]
          },
          "metadata": {
            "tags": []
          }
        }
      ]
    },
    {
      "cell_type": "markdown",
      "metadata": {
        "id": "yHy6H50ZgV7U"
      },
      "source": [
        "## Cross-Entropy Loss"
      ]
    },
    {
      "cell_type": "markdown",
      "metadata": {
        "id": "AJejmCpAgV7U"
      },
      "source": [
        "### Viewing Activations and Labels"
      ]
    },
    {
      "cell_type": "code",
      "metadata": {
        "id": "XY9nkmtWgV7U"
      },
      "source": [
        "x,y = dls.one_batch()"
      ],
      "execution_count": null,
      "outputs": []
    },
    {
      "cell_type": "code",
      "metadata": {
        "id": "DG-1iGDegV7U"
      },
      "source": [
        "y"
      ],
      "execution_count": null,
      "outputs": []
    },
    {
      "cell_type": "code",
      "metadata": {
        "id": "qLmiozCGgV7U"
      },
      "source": [
        "preds,_ = learn.get_preds(dl=[(x,y)])\n",
        "preds[0]"
      ],
      "execution_count": null,
      "outputs": []
    },
    {
      "cell_type": "code",
      "metadata": {
        "id": "CNz5MwC3gV7U"
      },
      "source": [
        "len(preds[0]),preds[0].sum()"
      ],
      "execution_count": null,
      "outputs": []
    },
    {
      "cell_type": "markdown",
      "metadata": {
        "id": "HW3pCyAegV7U"
      },
      "source": [
        "### Softmax"
      ]
    },
    {
      "cell_type": "code",
      "metadata": {
        "id": "pEQhunBCgV7U"
      },
      "source": [
        "plot_function(torch.sigmoid, min=-4,max=4)"
      ],
      "execution_count": null,
      "outputs": []
    },
    {
      "cell_type": "code",
      "metadata": {
        "id": "oRq9aapDgV7U"
      },
      "source": [
        "#hide\n",
        "torch.random.manual_seed(42);"
      ],
      "execution_count": null,
      "outputs": []
    },
    {
      "cell_type": "code",
      "metadata": {
        "id": "pchozYx4gV7U"
      },
      "source": [
        "acts = torch.randn((6,2))*2\n",
        "acts"
      ],
      "execution_count": null,
      "outputs": []
    },
    {
      "cell_type": "code",
      "metadata": {
        "id": "gh79srdwgV7U"
      },
      "source": [
        "acts.sigmoid()"
      ],
      "execution_count": null,
      "outputs": []
    },
    {
      "cell_type": "code",
      "metadata": {
        "id": "k30JiUeugV7U"
      },
      "source": [
        "(acts[:,0]-acts[:,1]).sigmoid()"
      ],
      "execution_count": null,
      "outputs": []
    },
    {
      "cell_type": "code",
      "metadata": {
        "id": "D5IzcMXLgV7U"
      },
      "source": [
        "sm_acts = torch.softmax(acts, dim=1)\n",
        "sm_acts"
      ],
      "execution_count": null,
      "outputs": []
    },
    {
      "cell_type": "markdown",
      "metadata": {
        "id": "qJbw233CgV7U"
      },
      "source": [
        "### Log Likelihood"
      ]
    },
    {
      "cell_type": "code",
      "metadata": {
        "id": "Pk2H0GyggV7U"
      },
      "source": [
        "targ = tensor([0,1,0,1,1,0])"
      ],
      "execution_count": null,
      "outputs": []
    },
    {
      "cell_type": "code",
      "metadata": {
        "id": "AgoawkPVgV7U"
      },
      "source": [
        "sm_acts"
      ],
      "execution_count": null,
      "outputs": []
    },
    {
      "cell_type": "code",
      "metadata": {
        "id": "jo51qIcDgV7U"
      },
      "source": [
        "idx = range(6)\n",
        "sm_acts[idx, targ]"
      ],
      "execution_count": null,
      "outputs": []
    },
    {
      "cell_type": "code",
      "metadata": {
        "id": "qE6xEfo4gV7U"
      },
      "source": [
        "from IPython.display import HTML\n",
        "df = pd.DataFrame(sm_acts, columns=[\"3\",\"7\"])\n",
        "df['targ'] = targ\n",
        "df['idx'] = idx\n",
        "df['loss'] = sm_acts[range(6), targ]\n",
        "t = df.style.hide_index()\n",
        "#To have html code compatible with our script\n",
        "html = t._repr_html_().split('</style>')[1]\n",
        "html = re.sub(r'<table id=\"([^\"]+)\"\\s*>', r'<table >', html)\n",
        "display(HTML(html))"
      ],
      "execution_count": null,
      "outputs": []
    },
    {
      "cell_type": "code",
      "metadata": {
        "id": "8z4YPEW0gV7U"
      },
      "source": [
        "-sm_acts[idx, targ]"
      ],
      "execution_count": null,
      "outputs": []
    },
    {
      "cell_type": "code",
      "metadata": {
        "id": "k6TcqVP5gV7U"
      },
      "source": [
        "F.nll_loss(sm_acts, targ, reduction='none')"
      ],
      "execution_count": null,
      "outputs": []
    },
    {
      "cell_type": "markdown",
      "metadata": {
        "id": "w0rBOqH1gV7U"
      },
      "source": [
        "### Taking the Log"
      ]
    },
    {
      "cell_type": "code",
      "metadata": {
        "id": "dvrYLYEVgV7U"
      },
      "source": [
        "plot_function(torch.log, min=0,max=4)"
      ],
      "execution_count": null,
      "outputs": []
    },
    {
      "cell_type": "code",
      "metadata": {
        "id": "i4sNID_CgV7U"
      },
      "source": [
        "loss_func = nn.CrossEntropyLoss()"
      ],
      "execution_count": null,
      "outputs": []
    },
    {
      "cell_type": "code",
      "metadata": {
        "id": "ckAhXWWhgV7U"
      },
      "source": [
        "loss_func(acts, targ)"
      ],
      "execution_count": null,
      "outputs": []
    },
    {
      "cell_type": "code",
      "metadata": {
        "id": "Lkee3CbAgV7U"
      },
      "source": [
        "F.cross_entropy(acts, targ)"
      ],
      "execution_count": null,
      "outputs": []
    },
    {
      "cell_type": "code",
      "metadata": {
        "id": "ahIOHqNPgV7U"
      },
      "source": [
        "nn.CrossEntropyLoss(reduction='none')(acts, targ)"
      ],
      "execution_count": null,
      "outputs": []
    },
    {
      "cell_type": "markdown",
      "metadata": {
        "id": "G1ocUct7gV7U"
      },
      "source": [
        "## Model Interpretation"
      ]
    },
    {
      "cell_type": "code",
      "metadata": {
        "id": "BvMtrUHYgV7U"
      },
      "source": [
        "interp = ClassificationInterpretation.from_learner(learn)\n",
        "interp.plot_confusion_matrix(figsize=(12,12), dpi=60)"
      ],
      "execution_count": null,
      "outputs": []
    },
    {
      "cell_type": "code",
      "metadata": {
        "id": "LxlPy0BngV7V"
      },
      "source": [
        "interp.most_confused(min_val=5)"
      ],
      "execution_count": null,
      "outputs": []
    },
    {
      "cell_type": "markdown",
      "metadata": {
        "id": "GYHWVw3HgV7V"
      },
      "source": [
        "## Improving Our Model"
      ]
    },
    {
      "cell_type": "markdown",
      "metadata": {
        "id": "5w_tA010gV7V"
      },
      "source": [
        "### The Learning Rate Finder"
      ]
    },
    {
      "cell_type": "code",
      "metadata": {
        "id": "apFAcfMMgV7V"
      },
      "source": [
        "learn = cnn_learner(dls, resnet34, metrics=error_rate)\n",
        "learn.fine_tune(1, base_lr=0.1)"
      ],
      "execution_count": null,
      "outputs": []
    },
    {
      "cell_type": "code",
      "metadata": {
        "id": "Ts_smzKKgV7W"
      },
      "source": [
        "learn = cnn_learner(dls, resnet34, metrics=error_rate)\n",
        "lr_min,lr_steep = learn.lr_find()"
      ],
      "execution_count": null,
      "outputs": []
    },
    {
      "cell_type": "code",
      "metadata": {
        "id": "YjVdmcxMgV7W"
      },
      "source": [
        "print(f\"Minimum/10: {lr_min:.2e}, steepest point: {lr_steep:.2e}\")"
      ],
      "execution_count": null,
      "outputs": []
    },
    {
      "cell_type": "code",
      "metadata": {
        "id": "lBKNQ_CagV7W"
      },
      "source": [
        "learn = cnn_learner(dls, resnet34, metrics=error_rate)\n",
        "learn.fine_tune(2, base_lr=3e-3)"
      ],
      "execution_count": null,
      "outputs": []
    },
    {
      "cell_type": "markdown",
      "metadata": {
        "id": "UZhppefhgV7W"
      },
      "source": [
        "### Unfreezing and Transfer Learning"
      ]
    },
    {
      "cell_type": "code",
      "metadata": {
        "id": "0_Bkys76gV7W"
      },
      "source": [
        "learn.fine_tune??"
      ],
      "execution_count": null,
      "outputs": []
    },
    {
      "cell_type": "code",
      "metadata": {
        "id": "Hsx1GBnUgV7W"
      },
      "source": [
        "learn = cnn_learner(dls, resnet34, metrics=error_rate)\n",
        "learn.fit_one_cycle(3, 3e-3)"
      ],
      "execution_count": null,
      "outputs": []
    },
    {
      "cell_type": "code",
      "metadata": {
        "id": "hadnsaSZgV7W"
      },
      "source": [
        "learn.unfreeze()"
      ],
      "execution_count": null,
      "outputs": []
    },
    {
      "cell_type": "code",
      "metadata": {
        "id": "RvIUfgDBgV7W"
      },
      "source": [
        "learn.lr_find()"
      ],
      "execution_count": null,
      "outputs": []
    },
    {
      "cell_type": "code",
      "metadata": {
        "id": "kBm4ke1LgV7W"
      },
      "source": [
        "learn.fit_one_cycle(6, lr_max=1e-5)"
      ],
      "execution_count": null,
      "outputs": []
    },
    {
      "cell_type": "markdown",
      "metadata": {
        "id": "tQlitKy3gV7W"
      },
      "source": [
        "### Discriminative Learning Rates"
      ]
    },
    {
      "cell_type": "code",
      "metadata": {
        "id": "twky2tRbgV7W"
      },
      "source": [
        "learn = cnn_learner(dls, resnet34, metrics=error_rate)\n",
        "learn.fit_one_cycle(3, 3e-3)\n",
        "learn.unfreeze()\n",
        "learn.fit_one_cycle(12, lr_max=slice(1e-6,1e-4))"
      ],
      "execution_count": null,
      "outputs": []
    },
    {
      "cell_type": "code",
      "metadata": {
        "id": "Sq3pvR0DgV7X"
      },
      "source": [
        "learn.recorder.plot_loss()"
      ],
      "execution_count": null,
      "outputs": []
    },
    {
      "cell_type": "markdown",
      "metadata": {
        "id": "ZKy_KBM3gV7a"
      },
      "source": [
        "### Selecting the Number of Epochs"
      ]
    },
    {
      "cell_type": "markdown",
      "metadata": {
        "id": "kRmO3ikFgV7a"
      },
      "source": [
        "### Deeper Architectures"
      ]
    },
    {
      "cell_type": "code",
      "metadata": {
        "id": "8yX14W-egV7a"
      },
      "source": [
        "from fastai.callback.fp16 import *\n",
        "learn = cnn_learner(dls, resnet50, metrics=error_rate).to_fp16()\n",
        "learn.fine_tune(6, freeze_epochs=3)"
      ],
      "execution_count": null,
      "outputs": []
    },
    {
      "cell_type": "markdown",
      "metadata": {
        "id": "1ELpORnDgV7a"
      },
      "source": [
        "## Conclusion"
      ]
    },
    {
      "cell_type": "markdown",
      "metadata": {
        "id": "1AVEg8EVgV7a"
      },
      "source": [
        "## Questionnaire"
      ]
    },
    {
      "cell_type": "markdown",
      "metadata": {
        "id": "jOaVK4NDgV7a"
      },
      "source": [
        "1. Why do we first resize to a large size on the CPU, and then to a smaller size on the GPU?\n",
        "1. If you are not familiar with regular expressions, find a regular expression tutorial, and some problem sets, and complete them. Have a look on the book's website for suggestions.\n",
        "1. What are the two ways in which data is most commonly provided, for most deep learning datasets?\n",
        "1. Look up the documentation for `L` and try using a few of the new methods is that it adds.\n",
        "1. Look up the documentation for the Python `pathlib` module and try using a few methods of the `Path` class.\n",
        "1. Give two examples of ways that image transformations can degrade the quality of the data.\n",
        "1. What method does fastai provide to view the data in a `DataLoaders`?\n",
        "1. What method does fastai provide to help you debug a `DataBlock`?\n",
        "1. Should you hold off on training a model until you have thoroughly cleaned your data?\n",
        "1. What are the two pieces that are combined into cross-entropy loss in PyTorch?\n",
        "1. What are the two properties of activations that softmax ensures? Why is this important?\n",
        "1. When might you want your activations to not have these two properties?\n",
        "1. Calculate the `exp` and `softmax` columns of <<bear_softmax>> yourself (i.e., in a spreadsheet, with a calculator, or in a notebook).\n",
        "1. Why can't we use `torch.where` to create a loss function for datasets where our label can have more than two categories?\n",
        "1. What is the value of log(-2)? Why?\n",
        "1. What are two good rules of thumb for picking a learning rate from the learning rate finder?\n",
        "1. What two steps does the `fine_tune` method do?\n",
        "1. In Jupyter Notebook, how do you get the source code for a method or function?\n",
        "1. What are discriminative learning rates?\n",
        "1. How is a Python `slice` object interpreted when passed as a learning rate to fastai?\n",
        "1. Why is early stopping a poor choice when using 1cycle training?\n",
        "1. What is the difference between `resnet50` and `resnet101`?\n",
        "1. What does `to_fp16` do?"
      ]
    },
    {
      "cell_type": "markdown",
      "metadata": {
        "id": "2tFw0uPXgV7a"
      },
      "source": [
        "### Further Research"
      ]
    },
    {
      "cell_type": "markdown",
      "metadata": {
        "id": "zJm_OGcIgV7a"
      },
      "source": [
        "1. Find the paper by Leslie Smith that introduced the learning rate finder, and read it.\n",
        "1. See if you can improve the accuracy of the classifier in this chapter. What's the best accuracy you can achieve? Look on the forums and the book's website to see what other students have achieved with this dataset, and how they did it."
      ]
    },
    {
      "cell_type": "code",
      "metadata": {
        "id": "cDfUSArHgV7a"
      },
      "source": [
        ""
      ],
      "execution_count": null,
      "outputs": []
    }
  ]
}